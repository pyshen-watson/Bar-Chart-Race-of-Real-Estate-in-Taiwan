{
 "cells": [
  {
   "cell_type": "markdown",
   "metadata": {},
   "source": [
    "# 1.資料下載及預處理\n",
    "- 使用自定義類別 `DataCollector` 從資料庫下載我們要的資料。\n",
    "- 套件`tqdm`可以展示出進度條，方便我們了解資料處理的進度。"
   ]
  },
  {
   "cell_type": "code",
   "execution_count": 3,
   "metadata": {},
   "outputs": [],
   "source": [
    "from utils.DataCollector import DataCollector\n",
    "from tqdm import tqdm\n",
    "from os import makedirs\n",
    "\n",
    "makedirs('data', exist_ok=True)"
   ]
  },
  {
   "cell_type": "markdown",
   "metadata": {},
   "source": [
    "- 暫時關閉`warning`以避免警告訊息影響進度條展示。\n",
    "- 迭代101~111年四個季度的資料。\n",
    "- 寫程式的當下時間，尚未釋出111-4資料，故從下載目錄移除。"
   ]
  },
  {
   "cell_type": "code",
   "execution_count": 2,
   "metadata": {},
   "outputs": [],
   "source": [
    "versions = [(year, season) for year in range(101, 112) for season in range(1,5)]\n",
    "versions.remove((111,4))"
   ]
  },
  {
   "cell_type": "code",
   "execution_count": 4,
   "metadata": {},
   "outputs": [
    {
     "name": "stderr",
     "output_type": "stream",
     "text": [
      "100%|██████████| 43/43 [03:43<00:00,  5.20s/it]\n"
     ]
    }
   ],
   "source": [
    "import warnings\n",
    "warnings.filterwarnings('ignore')\n",
    "\n",
    "for year, season in tqdm(versions):\n",
    "        \n",
    "        collector = DataCollector(year, season)\n",
    "        collector.download()\n",
    "        collector.extract()\n",
    "        collector.fetch()\n",
    "        collector.save()\n",
    "        collector.remove()"
   ]
  },
  {
   "cell_type": "markdown",
   "metadata": {},
   "source": [
    "# 2.處理及修正資料\n",
    "- 將每個季度的資料結合成一份`DataFrame`"
   ]
  },
  {
   "cell_type": "code",
   "execution_count": 22,
   "metadata": {},
   "outputs": [],
   "source": [
    "from os import listdir\n",
    "from os.path import join\n",
    "import pickle\n",
    "import pandas as pd\n",
    "\n",
    "df = pd.DataFrame()\n",
    "data_dir = './data'\n",
    "\n",
    "for filename in listdir(data_dir):\n",
    "    \n",
    "    path = join(data_dir, filename)\n",
    "\n",
    "    with open(path, 'rb') as f:\n",
    "        data = pickle.load(f)\n",
    "        \n",
    "    index = filename.split('.')[0]\n",
    "        \n",
    "    df_season = pd.DataFrame({index: data})\n",
    "    df_season = df_season.T\n",
    "    df = pd.concat([df, df_season], axis=0)\n",
    "        \n",
    "df = df.sort_index()"
   ]
  },
  {
   "cell_type": "markdown",
   "metadata": {},
   "source": [
    "- 有些地區在該季度並無不動產交易紀錄時，`df`中會呈現為`NaN`。\n",
    "- `fillna` 使用 `method='ffill'` 時，會使用最近一次的紀錄。\n",
    "- `fillna(0)` 會將剩下來的空格補`0`。"
   ]
  },
  {
   "cell_type": "code",
   "execution_count": 23,
   "metadata": {},
   "outputs": [
    {
     "data": {
      "text/html": [
       "<div>\n",
       "<style scoped>\n",
       "    .dataframe tbody tr th:only-of-type {\n",
       "        vertical-align: middle;\n",
       "    }\n",
       "\n",
       "    .dataframe tbody tr th {\n",
       "        vertical-align: top;\n",
       "    }\n",
       "\n",
       "    .dataframe thead th {\n",
       "        text-align: right;\n",
       "    }\n",
       "</style>\n",
       "<table border=\"1\" class=\"dataframe\">\n",
       "  <thead>\n",
       "    <tr style=\"text-align: right;\">\n",
       "      <th></th>\n",
       "      <th>南投縣 中寮鄉</th>\n",
       "      <th>南投縣 仁愛鄉</th>\n",
       "      <th>南投縣 信義鄉</th>\n",
       "      <th>南投縣 南投市</th>\n",
       "      <th>南投縣 名間鄉</th>\n",
       "      <th>南投縣 國姓鄉</th>\n",
       "      <th>南投縣 埔里鎮</th>\n",
       "      <th>南投縣 水里鄉</th>\n",
       "      <th>南投縣 竹山鎮</th>\n",
       "      <th>南投縣 草屯鎮</th>\n",
       "      <th>...</th>\n",
       "      <th>高雄市 那瑪夏區</th>\n",
       "      <th>高雄市 阿蓮區</th>\n",
       "      <th>高雄市 鳥松區</th>\n",
       "      <th>高雄市 鳳山區</th>\n",
       "      <th>高雄市 鹽埕區</th>\n",
       "      <th>高雄市 鼓山區</th>\n",
       "      <th>新北市 烏來區</th>\n",
       "      <th>台東縣 金峰鄉</th>\n",
       "      <th>屏東縣 瑪家鄉</th>\n",
       "      <th>連江縣 東引鄉</th>\n",
       "    </tr>\n",
       "  </thead>\n",
       "  <tbody>\n",
       "    <tr>\n",
       "      <th>101-1</th>\n",
       "      <td>930.0</td>\n",
       "      <td>540.0</td>\n",
       "      <td>1000.0</td>\n",
       "      <td>31805.0</td>\n",
       "      <td>4501.0</td>\n",
       "      <td>2000.0</td>\n",
       "      <td>29415.0</td>\n",
       "      <td>7963.0</td>\n",
       "      <td>15613.0</td>\n",
       "      <td>33869.0</td>\n",
       "      <td>...</td>\n",
       "      <td>72.0</td>\n",
       "      <td>10248.0</td>\n",
       "      <td>52855.0</td>\n",
       "      <td>52169.0</td>\n",
       "      <td>44794.0</td>\n",
       "      <td>69156.0</td>\n",
       "      <td>43541.0</td>\n",
       "      <td>0.0</td>\n",
       "      <td>55.0</td>\n",
       "      <td>0.0</td>\n",
       "    </tr>\n",
       "    <tr>\n",
       "      <th>101-2</th>\n",
       "      <td>930.0</td>\n",
       "      <td>540.0</td>\n",
       "      <td>1000.0</td>\n",
       "      <td>31805.0</td>\n",
       "      <td>4501.0</td>\n",
       "      <td>2000.0</td>\n",
       "      <td>29415.0</td>\n",
       "      <td>7963.0</td>\n",
       "      <td>15613.0</td>\n",
       "      <td>33869.0</td>\n",
       "      <td>...</td>\n",
       "      <td>72.0</td>\n",
       "      <td>10248.0</td>\n",
       "      <td>52855.0</td>\n",
       "      <td>52169.0</td>\n",
       "      <td>44794.0</td>\n",
       "      <td>69156.0</td>\n",
       "      <td>43541.0</td>\n",
       "      <td>0.0</td>\n",
       "      <td>55.0</td>\n",
       "      <td>0.0</td>\n",
       "    </tr>\n",
       "    <tr>\n",
       "      <th>101-3</th>\n",
       "      <td>930.0</td>\n",
       "      <td>540.0</td>\n",
       "      <td>1000.0</td>\n",
       "      <td>31805.0</td>\n",
       "      <td>4501.0</td>\n",
       "      <td>2000.0</td>\n",
       "      <td>54911.0</td>\n",
       "      <td>7963.0</td>\n",
       "      <td>15613.0</td>\n",
       "      <td>33869.0</td>\n",
       "      <td>...</td>\n",
       "      <td>72.0</td>\n",
       "      <td>10248.0</td>\n",
       "      <td>52855.0</td>\n",
       "      <td>52169.0</td>\n",
       "      <td>44794.0</td>\n",
       "      <td>69156.0</td>\n",
       "      <td>43541.0</td>\n",
       "      <td>0.0</td>\n",
       "      <td>55.0</td>\n",
       "      <td>0.0</td>\n",
       "    </tr>\n",
       "    <tr>\n",
       "      <th>101-4</th>\n",
       "      <td>336.0</td>\n",
       "      <td>212.0</td>\n",
       "      <td>246.0</td>\n",
       "      <td>22248.0</td>\n",
       "      <td>2047.0</td>\n",
       "      <td>999.0</td>\n",
       "      <td>15174.0</td>\n",
       "      <td>18084.0</td>\n",
       "      <td>142.0</td>\n",
       "      <td>13580.0</td>\n",
       "      <td>...</td>\n",
       "      <td>149.0</td>\n",
       "      <td>4279.0</td>\n",
       "      <td>27626.0</td>\n",
       "      <td>37839.0</td>\n",
       "      <td>28606.0</td>\n",
       "      <td>49970.0</td>\n",
       "      <td>43541.0</td>\n",
       "      <td>0.0</td>\n",
       "      <td>55.0</td>\n",
       "      <td>0.0</td>\n",
       "    </tr>\n",
       "    <tr>\n",
       "      <th>102-1</th>\n",
       "      <td>286.0</td>\n",
       "      <td>233.0</td>\n",
       "      <td>210.0</td>\n",
       "      <td>21780.0</td>\n",
       "      <td>1711.0</td>\n",
       "      <td>881.0</td>\n",
       "      <td>9680.0</td>\n",
       "      <td>1630.0</td>\n",
       "      <td>70.0</td>\n",
       "      <td>18691.0</td>\n",
       "      <td>...</td>\n",
       "      <td>179.0</td>\n",
       "      <td>6920.0</td>\n",
       "      <td>30400.0</td>\n",
       "      <td>39757.0</td>\n",
       "      <td>26953.0</td>\n",
       "      <td>50711.0</td>\n",
       "      <td>180.0</td>\n",
       "      <td>0.0</td>\n",
       "      <td>450.0</td>\n",
       "      <td>5103.0</td>\n",
       "    </tr>\n",
       "  </tbody>\n",
       "</table>\n",
       "<p>5 rows × 364 columns</p>\n",
       "</div>"
      ],
      "text/plain": [
       "       南投縣 中寮鄉  南投縣 仁愛鄉  南投縣 信義鄉  南投縣 南投市  南投縣 名間鄉  南投縣 國姓鄉  南投縣 埔里鎮  南投縣 水里鄉  \\\n",
       "101-1    930.0    540.0   1000.0  31805.0   4501.0   2000.0  29415.0   7963.0   \n",
       "101-2    930.0    540.0   1000.0  31805.0   4501.0   2000.0  29415.0   7963.0   \n",
       "101-3    930.0    540.0   1000.0  31805.0   4501.0   2000.0  54911.0   7963.0   \n",
       "101-4    336.0    212.0    246.0  22248.0   2047.0    999.0  15174.0  18084.0   \n",
       "102-1    286.0    233.0    210.0  21780.0   1711.0    881.0   9680.0   1630.0   \n",
       "\n",
       "       南投縣 竹山鎮  南投縣 草屯鎮  ...  高雄市 那瑪夏區  高雄市 阿蓮區  高雄市 鳥松區  高雄市 鳳山區  高雄市 鹽埕區  \\\n",
       "101-1  15613.0  33869.0  ...      72.0  10248.0  52855.0  52169.0  44794.0   \n",
       "101-2  15613.0  33869.0  ...      72.0  10248.0  52855.0  52169.0  44794.0   \n",
       "101-3  15613.0  33869.0  ...      72.0  10248.0  52855.0  52169.0  44794.0   \n",
       "101-4    142.0  13580.0  ...     149.0   4279.0  27626.0  37839.0  28606.0   \n",
       "102-1     70.0  18691.0  ...     179.0   6920.0  30400.0  39757.0  26953.0   \n",
       "\n",
       "       高雄市 鼓山區  新北市 烏來區  台東縣 金峰鄉  屏東縣 瑪家鄉  連江縣 東引鄉  \n",
       "101-1  69156.0  43541.0      0.0     55.0      0.0  \n",
       "101-2  69156.0  43541.0      0.0     55.0      0.0  \n",
       "101-3  69156.0  43541.0      0.0     55.0      0.0  \n",
       "101-4  49970.0  43541.0      0.0     55.0      0.0  \n",
       "102-1  50711.0    180.0      0.0    450.0   5103.0  \n",
       "\n",
       "[5 rows x 364 columns]"
      ]
     },
     "execution_count": 23,
     "metadata": {},
     "output_type": "execute_result"
    }
   ],
   "source": [
    "df = df.fillna(method='ffill', axis=0)\n",
    "df = df.fillna(0)\n",
    "df.head()"
   ]
  },
  {
   "cell_type": "markdown",
   "metadata": {},
   "source": [
    "# 3. 繪製動態長條圖\n",
    "- 我們使用`bar_chart_race` 這個套件進行繪圖。\n",
    "- 而`bar_chart_race` 背後運作的套件是 `matplotlib`。\n",
    "- 由於`matplotlib` 本身並不支援中文字形，因此需要額外執行以下程式：\n",
    "    1. 下載字型「台北黑體」。\n",
    "    2. 將`.ttf`檔移動到`matplotlib`的字型目錄。\n",
    "    3. 將台北黑體加入`matplotlib.pyplot`的參數。"
   ]
  },
  {
   "cell_type": "code",
   "execution_count": 46,
   "metadata": {},
   "outputs": [],
   "source": [
    "from wget import download\n",
    "ttf_name = download('https://drive.google.com/u/0/uc?id=1eGAsTN1HBpJAkeVM57_C7ccp7hbgSz3_&export=download')\n",
    "\n",
    "import matplotlib\n",
    "from os import rename\n",
    "module_path = matplotlib.__file__[:-12]\n",
    "font_path = join(module_path, 'mpl-data/fonts/ttf/', ttf_name)\n",
    "rename(ttf_name, font_path)\n",
    "\n",
    "\n",
    "import matplotlib.pyplot as plt\n",
    "plt.rcParams['font.sans-serif'] = ['Taipei Sans TC Beta']"
   ]
  },
  {
   "cell_type": "markdown",
   "metadata": {},
   "source": [
    "完成字型設定之後，我們就可以開始繪製圖像："
   ]
  },
  {
   "cell_type": "code",
   "execution_count": 49,
   "metadata": {},
   "outputs": [
    {
     "name": "stderr",
     "output_type": "stream",
     "text": [
      "MovieWriter imagemagick unavailable; using Pillow instead.\n"
     ]
    }
   ],
   "source": [
    "from bar_chart_race import bar_chart_race\n",
    "\n",
    "bar_chart_race(\n",
    "    df=df,\n",
    "    filename='Taiwan House Price Ranking.gif',\n",
    "    n_bars=25,\n",
    "    dpi=100,\n",
    "    fixed_max=True,\n",
    "    period_length=1500,\n",
    "    steps_per_period=20,\n",
    "    title='全台各行政區房價中位數排名 Top 25\\n(元/平方米)'\n",
    ")"
   ]
  },
  {
   "cell_type": "markdown",
   "metadata": {},
   "source": [
    "我們也可以把全部的資料輸出成csv:"
   ]
  },
  {
   "cell_type": "code",
   "execution_count": null,
   "metadata": {},
   "outputs": [],
   "source": [
    "df.to_csv('result.csv')"
   ]
  }
 ],
 "metadata": {
  "kernelspec": {
   "display_name": "Python 3.8.10 ('.venv': poetry)",
   "language": "python",
   "name": "python3"
  },
  "language_info": {
   "codemirror_mode": {
    "name": "ipython",
    "version": 3
   },
   "file_extension": ".py",
   "mimetype": "text/x-python",
   "name": "python",
   "nbconvert_exporter": "python",
   "pygments_lexer": "ipython3",
   "version": "3.8.10"
  },
  "orig_nbformat": 4,
  "vscode": {
   "interpreter": {
    "hash": "2a4f04de8caab22fe128e86ebc4aad549068880e60842b13a224daca03d6d4e4"
   }
  }
 },
 "nbformat": 4,
 "nbformat_minor": 2
}
